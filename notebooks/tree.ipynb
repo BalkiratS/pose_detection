{
 "cells": [
  {
   "cell_type": "markdown",
   "metadata": {},
   "source": [
    "# Model Training Notebook: Tree Pose Classification\n",
    "\n",
    "## Introduction\n",
    "\n",
    "This Jupyter Notebook focuses on training a machine learning model to classify the \"Tree Pose\" as either correct or incorrect based on body landmarks data obtained using BlazePose. The Tree Pose is a common yoga posture that requires a good sense of balance and body positioning. We aim to use the body landmarks data to detect and classify whether an individual is performing the Tree Pose correctly or incorrectly.\n",
    "\n",
    "### Background\n",
    "\n",
    "- The Tree Pose is a popular yoga posture that involves standing on one leg with the other leg resting on the inner thigh or calf of the supporting leg.\n",
    "- Correct execution of the Tree Pose relies on precise body positioning, including the alignment of various body landmarks.\n",
    "- BlazePose is a pose estimation model that provides the locations of key body landmarks.\n",
    "\n",
    "### Objectives\n",
    "\n",
    "The primary objectives of this project are as follows:\n",
    "\n",
    "1. Collect and preprocess body landmarks data using BlazePose for individuals performing the Tree Pose.\n",
    "2. Develop a machine learning model to classify whether a Tree Pose is performed correctly or incorrectly.\n",
    "3. Evaluate the model's performance on validation and test datasets.\n",
    "4. Create visualizations and analyze the model's results.\n",
    "\n",
    "### Dataset\n",
    "\n",
    "We have collected a dataset of body landmarks obtained through BlazePose, where each data point includes the positions of key body landmarks during the Tree Pose. This dataset is used for training, validation, and testing.\n",
    "\n",
    "### Machine Learning Model\n",
    "\n",
    "The machine learning model used for classification is a neural network with a specific architecture. We will discuss the model's architecture, training process, and evaluation metrics in this notebook.\n",
    "\n",
    "### Note\n",
    "\n",
    "Please make sure you have the necessary dependencies, dataset, and BlazePose implementation ready before running this notebook.\n"
   ]
  },
  {
   "cell_type": "code",
   "execution_count": 4,
   "metadata": {},
   "outputs": [
    {
     "name": "stdout",
     "output_type": "stream",
     "text": [
      "zsh:1: no matches found: https://tfhub.dev/google/lite-model/movenet/singlepose/thunder/tflite/float16/4?lite-format=tflite\n"
     ]
    },
    {
     "name": "stdout",
     "output_type": "stream",
     "text": [
      "fatal: destination path 'examples' already exists and is not an empty directory.\n"
     ]
    }
   ],
   "source": [
    "# Import Libraries\n",
    "\n",
    "# Data Manipulation and Preprocessing\n",
    "import numpy as np\n",
    "import pandas as pd\n",
    "import csv\n",
    "\n",
    "# Machine Learning\n",
    "import tensorflow as tf\n",
    "from tensorflow import keras\n",
    "from sklearn.metrics import accuracy_score, classification_report, confusion_matrix, ConfusionMatrixDisplay\n",
    "\n",
    "# Visualization\n",
    "from matplotlib import pyplot as plt\n",
    "\n",
    "# Miscellaneous\n",
    "import os\n",
    "import sys\n",
    "\n",
    "# Download model from TF Hub and check out inference code from GitHub\n",
    "!wget -q -O movenet_thunder.tflite https://tfhub.dev/google/lite-model/movenet/singlepose/thunder/tflite/float16/4?lite-format=tflite\n",
    "!git clone https://github.com/tensorflow/examples.git\n",
    "pose_sample_rpi_path = os.path.join(os.getcwd(), 'examples/lite/examples/pose_estimation/raspberry_pi')\n",
    "sys.path.append(pose_sample_rpi_path)\n",
    "\n",
    "import utils\n",
    "from data import BodyPart"
   ]
  },
  {
   "cell_type": "markdown",
   "metadata": {},
   "source": [
    "# Data Loading and Preprocessing for Pose Classification\n",
    "\n",
    "## Data Source and Preprocessing\n",
    "\n",
    "The CSV files used in this code were created by processing pose images with BlazePose to obtain pose landmarks. The source images are from the `/datasets/tree_images` directory.\n",
    "\n",
    "- **Training and Testing Split:** The dataset has been divided into training and testing sets with an 80-20 split ratio.\n",
    "\n",
    "### CSV Files and Processing Details\n",
    "\n",
    "- **Training Data:** The CSV file located at `csvs_out_train_path` contains pose landmarks and labels for the training dataset.\n",
    "\n",
    "- **Testing Data:** The CSV file located at `csvs_out_test_path` contains pose landmarks and labels for testing the model. Additionally, data from the `csvs_out_test_real` CSV file is available for further testing.\n",
    "\n",
    "- **Real Test Data:** The `csvs_out_test_real` CSV file contains pose landmarks obtained from images of real individuals. These images were collected by the author of this project, ensuring that the test dataset includes real-world, diverse scenarios.\n",
    "\n",
    "**Note:** The original images used to create the real test dataset are not included in the dataset directory due to privacy considerations.\n",
    "\n",
    "\n",
    "This code loads and preprocesses the data for the subsequent training and evaluation of a pose classification model. The pose landmarks are used as input features, and class labels are used for training and testing.\n"
   ]
  },
  {
   "cell_type": "code",
   "execution_count": 5,
   "metadata": {},
   "outputs": [],
   "source": [
    "csvs_out_train_path = '../Dataset/tree_csv/train.csv'\n",
    "csvs_out_test_path = '../Dataset/tree_csv/test.csv'\n",
    "csvs_out_test_real = '../Dataset/tree_csv/test_real.csv'\n",
    "\n",
    "def load_pose_landmarks(csv_path):\n",
    "  \"\"\"Loads a CSV created by MoveNetPreprocessor.\n",
    "  \n",
    "  Returns:\n",
    "    X: Detected landmark coordinates and scores of shape (N, 17 * 3)\n",
    "    y: Ground truth labels of shape (N, label_count)\n",
    "    classes: The list of all class names found in the dataset\n",
    "    dataframe: The CSV loaded as a Pandas dataframe features (X) and ground\n",
    "      truth labels (y) to use later to train a pose classification model.\n",
    "  \"\"\"\n",
    "\n",
    "  # Load the CSV file\n",
    "  dataframe = pd.read_csv(csv_path)\n",
    "  df_to_process = dataframe.copy()\n",
    "\n",
    "  # Drop the file_name columns as you don't need it during training.\n",
    "  df_to_process.drop(columns=['filename'], inplace=True)\n",
    "\n",
    "  # Extract the list of class names\n",
    "  classes = df_to_process.pop('class_name').unique()\n",
    "\n",
    "  # Extract the labels\n",
    "  y = df_to_process.pop('class_no')\n",
    "\n",
    "  # Convert the input features and labels into the correct format for training.\n",
    "  X = df_to_process.astype('float64')\n",
    "\n",
    "  return X, y, classes, dataframe\n",
    "\n",
    "# Load the train data\n",
    "X, y, class_names, _ = load_pose_landmarks(csvs_out_train_path)\n",
    "\n",
    "X_train = X\n",
    "y_train = y\n",
    "\n",
    "# Load the test data\n",
    "X_test, y_test, _, df_test = load_pose_landmarks(csvs_out_test_path)\n",
    "\n",
    "X_test_real, y_test_real, _3, df_test3 = load_pose_landmarks(csvs_out_test_real)\n"
   ]
  },
  {
   "cell_type": "markdown",
   "metadata": {},
   "source": [
    "# Pose Landmarks Normalization\n",
    "\n",
    "## Landmarks Normalization Process\n",
    "\n",
    "In this section, the code focuses on normalizing the pose landmarks obtained from the images. The normalization process includes the following steps:\n",
    "\n",
    "1. **Centering the Pose:** The pose landmarks are adjusted to ensure that the center of the pose becomes (0, 0) in the coordinate system. This step helps eliminate any translation-related variations in the pose data.\n",
    "\n",
    "2. **Scaling to a Constant Pose Size:** The landmarks are scaled to a consistent pose size, ensuring that the pose landmarks are comparable across different samples. This step helps in achieving consistent features for the pose classification model.\n",
    "\n",
    "3. **Embedding Transformation:** The normalized landmark coordinates are converted into a pose embedding, which is a flattened vector. This embedding serves as the input features for the pose classification model.\n",
    "\n",
    "By applying these normalization techniques, the code prepares the pose landmarks for effective use in training and evaluating the pose classification model.\n",
    "\n",
    "**Reference:** The normalization code is adapted from the TensorFlow Lite [Pose Classification Tutorial](https://github.com/tensorflow/tensorflow/blob/master/tensorflow/lite/g3doc/tutorials/pose_classification.ipynb)."
   ]
  },
  {
   "cell_type": "code",
   "execution_count": 6,
   "metadata": {},
   "outputs": [],
   "source": [
    "def get_center_point(landmarks, left_bodypart, right_bodypart):\n",
    "  \"\"\"Calculates the center point of the two given landmarks.\"\"\"\n",
    "\n",
    "  left = tf.gather(landmarks, left_bodypart.value, axis=1)\n",
    "  right = tf.gather(landmarks, right_bodypart.value, axis=1)\n",
    "  center = left * 0.5 + right * 0.5\n",
    "  return center\n",
    "  \n",
    "def get_pose_size(landmarks, torso_size_multiplier=2.5):\n",
    "  \"\"\"Calculates pose size.\n",
    "\n",
    "  It is the maximum of two values:\n",
    "    * Torso size multiplied by `torso_size_multiplier`\n",
    "    * Maximum distance from pose center to any pose landmark\n",
    "  \"\"\"\n",
    "  # Hips center\n",
    "  hips_center = get_center_point(landmarks, BodyPart.LEFT_HIP, \n",
    "                                 BodyPart.RIGHT_HIP)\n",
    "\n",
    "  # Shoulders center\n",
    "  shoulders_center = get_center_point(landmarks, BodyPart.LEFT_SHOULDER,\n",
    "                                      BodyPart.RIGHT_SHOULDER)\n",
    "\n",
    "  # Torso size as the minimum body size\n",
    "  torso_size = tf.linalg.norm(shoulders_center - hips_center)\n",
    "\n",
    "  # Pose center\n",
    "  pose_center_new = get_center_point(landmarks, BodyPart.LEFT_HIP, \n",
    "                                     BodyPart.RIGHT_HIP)\n",
    "  pose_center_new = tf.expand_dims(pose_center_new, axis=1)\n",
    "  # Broadcast the pose center to the same size as the landmark vector to\n",
    "  # perform substraction\n",
    "  pose_center_new = tf.broadcast_to(pose_center_new,\n",
    "                                    [tf.size(landmarks) // (13*2), 13, 2])\n",
    "\n",
    "  # Dist to pose center\n",
    "  d = tf.gather(landmarks - pose_center_new, 0, axis=0,\n",
    "                name=\"dist_to_pose_center\")\n",
    "  # Max dist to pose center\n",
    "  max_dist = tf.reduce_max(tf.linalg.norm(d, axis=0))\n",
    "\n",
    "  # Normalize scale\n",
    "  pose_size = tf.maximum(torso_size * torso_size_multiplier, max_dist)\n",
    "\n",
    "  return pose_size\n",
    "\n",
    "\n",
    "def normalize_pose_landmarks(landmarks):\n",
    "  \"\"\"Normalizes the landmarks translation by moving the pose center to (0,0) and\n",
    "  scaling it to a constant pose size.\n",
    "  \"\"\"\n",
    "  # Move landmarks so that the pose center becomes (0,0)\n",
    "  pose_center = get_center_point(landmarks, BodyPart.LEFT_HIP, \n",
    "                                 BodyPart.RIGHT_HIP)\n",
    "  pose_center = tf.expand_dims(pose_center, axis=1)\n",
    "  # Broadcast the pose center to the same size as the landmark vector to perform\n",
    "  # substraction\n",
    "  pose_center = tf.broadcast_to(pose_center, \n",
    "                                [tf.size(landmarks) // (13*2), 13, 2])\n",
    "  landmarks = landmarks - pose_center\n",
    "\n",
    "  # Scale the landmarks to a constant pose size\n",
    "  pose_size = get_pose_size(landmarks)\n",
    "  landmarks /= pose_size\n",
    "\n",
    "  return landmarks\n",
    "\n",
    "\n",
    "def landmarks_to_embedding(landmarks_and_scores):\n",
    "  \"\"\"Converts the input landmarks into a pose embedding.\"\"\"\n",
    "  # Reshape the flat input into a matrix with shape=(17, 3)\n",
    "  reshaped_inputs = keras.layers.Reshape((13, 3))(landmarks_and_scores)\n",
    "  #print(reshaped_inputs[:, :, 2])\n",
    "  #print(reshaped_inputs[:, :, :2]);\n",
    "\n",
    "  # Normalize landmarks 2D\n",
    "  landmarks = normalize_pose_landmarks(reshaped_inputs[:, :, :2])\n",
    "\n",
    "  # Flatten the normalized landmark coordinates into a vector\n",
    "  embedding = keras.layers.Flatten()(landmarks)\n",
    "\n",
    "  return embedding\n",
    "\n",
    "X_normalized = landmarks_to_embedding(X_train);"
   ]
  },
  {
   "cell_type": "markdown",
   "metadata": {},
   "source": [
    "# Model Definition and Training\n",
    "\n",
    "In this section, we define and train the pose classification model.\n",
    "\n",
    "## Model Architecture\n",
    "\n",
    "- Input Layer: The model takes input features representing normalized pose landmarks.\n",
    "- Embedding Layer: Converts pose landmarks for classification.\n",
    "- Dense Layers: Two hidden layers with ReLU6 activation.\n",
    "- Output Layer: A single neuron for binary classification."
   ]
  },
  {
   "cell_type": "code",
   "execution_count": 7,
   "metadata": {},
   "outputs": [],
   "source": [
    "from keras import Sequential;\n",
    "from keras.layers import Dense;\n",
    "\n",
    "# Define the model\n",
    "inputs = tf.keras.Input(shape=(39))\n",
    "embedding = landmarks_to_embedding(inputs)\n",
    "\n",
    "layer = Dense(90, activation=tf.nn.relu6)(embedding)\n",
    "layer = Dense(40, activation=tf.nn.relu6)(layer)\n",
    "outputs = Dense(1, activation=\"sigmoid\")(layer)\n",
    "\n",
    "model = keras.Model(inputs, outputs)"
   ]
  },
  {
   "cell_type": "markdown",
   "metadata": {},
   "source": [
    "## Model Compilation\n",
    "\n",
    "- Loss Function: Binary Cross-Entropy.\n",
    "- Optimizer: Adam."
   ]
  },
  {
   "cell_type": "code",
   "execution_count": 8,
   "metadata": {},
   "outputs": [],
   "source": [
    "model.compile(\n",
    "    loss = tf.keras.losses.BinaryCrossentropy(),\n",
    "    optimizer= tf.keras.optimizers.Adam(),\n",
    ")"
   ]
  },
  {
   "cell_type": "markdown",
   "metadata": {},
   "source": [
    "## Model Training\n",
    "\n",
    "- Trained on X_train and y_train for 100 epochs."
   ]
  },
  {
   "cell_type": "code",
   "execution_count": 9,
   "metadata": {},
   "outputs": [
    {
     "name": "stdout",
     "output_type": "stream",
     "text": [
      "Epoch 1/100\n"
     ]
    },
    {
     "name": "stderr",
     "output_type": "stream",
     "text": [
      "2023-11-04 14:41:53.531722: W tensorflow/tsl/platform/profile_utils/cpu_utils.cc:128] Failed to get CPU frequency: 0 Hz\n"
     ]
    },
    {
     "name": "stdout",
     "output_type": "stream",
     "text": [
      "13/13 [==============================] - 0s 787us/step - loss: 0.6818\n",
      "Epoch 2/100\n",
      "13/13 [==============================] - 0s 570us/step - loss: 0.6711\n",
      "Epoch 3/100\n",
      "13/13 [==============================] - 0s 570us/step - loss: 0.6636\n",
      "Epoch 4/100\n",
      "13/13 [==============================] - 0s 531us/step - loss: 0.6536\n",
      "Epoch 5/100\n",
      "13/13 [==============================] - 0s 571us/step - loss: 0.6462\n",
      "Epoch 6/100\n",
      "13/13 [==============================] - 0s 598us/step - loss: 0.6399\n",
      "Epoch 7/100\n",
      "13/13 [==============================] - 0s 610us/step - loss: 0.6345\n",
      "Epoch 8/100\n",
      "13/13 [==============================] - 0s 514us/step - loss: 0.6267\n",
      "Epoch 9/100\n",
      "13/13 [==============================] - 0s 534us/step - loss: 0.6160\n",
      "Epoch 10/100\n",
      "13/13 [==============================] - 0s 533us/step - loss: 0.6081\n",
      "Epoch 11/100\n",
      "13/13 [==============================] - 0s 557us/step - loss: 0.6017\n",
      "Epoch 12/100\n",
      "13/13 [==============================] - 0s 562us/step - loss: 0.5946\n",
      "Epoch 13/100\n",
      "13/13 [==============================] - 0s 540us/step - loss: 0.5787\n",
      "Epoch 14/100\n",
      "13/13 [==============================] - 0s 521us/step - loss: 0.5624\n",
      "Epoch 15/100\n",
      "13/13 [==============================] - 0s 525us/step - loss: 0.5470\n",
      "Epoch 16/100\n",
      "13/13 [==============================] - 0s 487us/step - loss: 0.5380\n",
      "Epoch 17/100\n",
      "13/13 [==============================] - 0s 537us/step - loss: 0.5226\n",
      "Epoch 18/100\n",
      "13/13 [==============================] - 0s 582us/step - loss: 0.5082\n",
      "Epoch 19/100\n",
      "13/13 [==============================] - 0s 583us/step - loss: 0.4912\n",
      "Epoch 20/100\n",
      "13/13 [==============================] - 0s 598us/step - loss: 0.4897\n",
      "Epoch 21/100\n",
      "13/13 [==============================] - 0s 640us/step - loss: 0.4663\n",
      "Epoch 22/100\n",
      "13/13 [==============================] - 0s 636us/step - loss: 0.4491\n",
      "Epoch 23/100\n",
      "13/13 [==============================] - 0s 718us/step - loss: 0.4313\n",
      "Epoch 24/100\n",
      "13/13 [==============================] - 0s 653us/step - loss: 0.4137\n",
      "Epoch 25/100\n",
      "13/13 [==============================] - 0s 3ms/step - loss: 0.3965\n",
      "Epoch 26/100\n",
      "13/13 [==============================] - 0s 960us/step - loss: 0.3801\n",
      "Epoch 27/100\n",
      "13/13 [==============================] - 0s 540us/step - loss: 0.3666\n",
      "Epoch 28/100\n",
      "13/13 [==============================] - 0s 586us/step - loss: 0.3570\n",
      "Epoch 29/100\n",
      "13/13 [==============================] - 0s 591us/step - loss: 0.3662\n",
      "Epoch 30/100\n",
      "13/13 [==============================] - 0s 634us/step - loss: 0.3545\n",
      "Epoch 31/100\n",
      "13/13 [==============================] - 0s 586us/step - loss: 0.3525\n",
      "Epoch 32/100\n",
      "13/13 [==============================] - 0s 789us/step - loss: 0.3350\n",
      "Epoch 33/100\n",
      "13/13 [==============================] - 0s 578us/step - loss: 0.3249\n",
      "Epoch 34/100\n",
      "13/13 [==============================] - 0s 683us/step - loss: 0.3157\n",
      "Epoch 35/100\n",
      "13/13 [==============================] - 0s 636us/step - loss: 0.3104\n",
      "Epoch 36/100\n",
      "13/13 [==============================] - 0s 599us/step - loss: 0.3039\n",
      "Epoch 37/100\n",
      "13/13 [==============================] - 0s 848us/step - loss: 0.3005\n",
      "Epoch 38/100\n",
      "13/13 [==============================] - 0s 599us/step - loss: 0.3305\n",
      "Epoch 39/100\n",
      "13/13 [==============================] - 0s 593us/step - loss: 0.3114\n",
      "Epoch 40/100\n",
      "13/13 [==============================] - 0s 581us/step - loss: 0.2928\n",
      "Epoch 41/100\n",
      "13/13 [==============================] - 0s 536us/step - loss: 0.2866\n",
      "Epoch 42/100\n",
      "13/13 [==============================] - 0s 620us/step - loss: 0.2824\n",
      "Epoch 43/100\n",
      "13/13 [==============================] - 0s 677us/step - loss: 0.2791\n",
      "Epoch 44/100\n",
      "13/13 [==============================] - 0s 632us/step - loss: 0.2745\n",
      "Epoch 45/100\n",
      "13/13 [==============================] - 0s 590us/step - loss: 0.2752\n",
      "Epoch 46/100\n",
      "13/13 [==============================] - 0s 650us/step - loss: 0.2659\n",
      "Epoch 47/100\n",
      "13/13 [==============================] - 0s 637us/step - loss: 0.2623\n",
      "Epoch 48/100\n",
      "13/13 [==============================] - 0s 621us/step - loss: 0.2572\n",
      "Epoch 49/100\n",
      "13/13 [==============================] - 0s 616us/step - loss: 0.2542\n",
      "Epoch 50/100\n",
      "13/13 [==============================] - 0s 721us/step - loss: 0.2518\n",
      "Epoch 51/100\n",
      "13/13 [==============================] - 0s 559us/step - loss: 0.2488\n",
      "Epoch 52/100\n",
      "13/13 [==============================] - 0s 633us/step - loss: 0.2471\n",
      "Epoch 53/100\n",
      "13/13 [==============================] - 0s 601us/step - loss: 0.2432\n",
      "Epoch 54/100\n",
      "13/13 [==============================] - 0s 562us/step - loss: 0.2381\n",
      "Epoch 55/100\n",
      "13/13 [==============================] - 0s 574us/step - loss: 0.2372\n",
      "Epoch 56/100\n",
      "13/13 [==============================] - 0s 584us/step - loss: 0.2374\n",
      "Epoch 57/100\n",
      "13/13 [==============================] - 0s 568us/step - loss: 0.2325\n",
      "Epoch 58/100\n",
      "13/13 [==============================] - 0s 569us/step - loss: 0.2308\n",
      "Epoch 59/100\n",
      "13/13 [==============================] - 0s 2ms/step - loss: 0.2305\n",
      "Epoch 60/100\n",
      "13/13 [==============================] - 0s 613us/step - loss: 0.2256\n",
      "Epoch 61/100\n",
      "13/13 [==============================] - 0s 548us/step - loss: 0.2217\n",
      "Epoch 62/100\n",
      "13/13 [==============================] - 0s 562us/step - loss: 0.2175\n",
      "Epoch 63/100\n",
      "13/13 [==============================] - 0s 575us/step - loss: 0.2103\n",
      "Epoch 64/100\n",
      "13/13 [==============================] - 0s 557us/step - loss: 0.2177\n",
      "Epoch 65/100\n",
      "13/13 [==============================] - 0s 586us/step - loss: 0.2174\n",
      "Epoch 66/100\n",
      "13/13 [==============================] - 0s 558us/step - loss: 0.2252\n",
      "Epoch 67/100\n",
      "13/13 [==============================] - 0s 570us/step - loss: 0.2399\n",
      "Epoch 68/100\n",
      "13/13 [==============================] - 0s 590us/step - loss: 0.2360\n",
      "Epoch 69/100\n",
      "13/13 [==============================] - 0s 556us/step - loss: 0.2149\n",
      "Epoch 70/100\n",
      "13/13 [==============================] - 0s 605us/step - loss: 0.2405\n",
      "Epoch 71/100\n",
      "13/13 [==============================] - 0s 575us/step - loss: 0.2151\n",
      "Epoch 72/100\n",
      "13/13 [==============================] - 0s 606us/step - loss: 0.2014\n",
      "Epoch 73/100\n",
      "13/13 [==============================] - 0s 552us/step - loss: 0.1972\n",
      "Epoch 74/100\n",
      "13/13 [==============================] - 0s 563us/step - loss: 0.1890\n",
      "Epoch 75/100\n",
      "13/13 [==============================] - 0s 605us/step - loss: 0.1895\n",
      "Epoch 76/100\n",
      "13/13 [==============================] - 0s 537us/step - loss: 0.2030\n",
      "Epoch 77/100\n",
      "13/13 [==============================] - 0s 607us/step - loss: 0.2048\n",
      "Epoch 78/100\n",
      "13/13 [==============================] - 0s 561us/step - loss: 0.1952\n",
      "Epoch 79/100\n",
      "13/13 [==============================] - 0s 567us/step - loss: 0.1957\n",
      "Epoch 80/100\n",
      "13/13 [==============================] - 0s 597us/step - loss: 0.1978\n",
      "Epoch 81/100\n",
      "13/13 [==============================] - 0s 540us/step - loss: 0.1863\n",
      "Epoch 82/100\n",
      "13/13 [==============================] - 0s 565us/step - loss: 0.1741\n",
      "Epoch 83/100\n",
      "13/13 [==============================] - 0s 540us/step - loss: 0.1741\n",
      "Epoch 84/100\n",
      "13/13 [==============================] - 0s 611us/step - loss: 0.1715\n",
      "Epoch 85/100\n",
      "13/13 [==============================] - 0s 547us/step - loss: 0.1741\n",
      "Epoch 86/100\n",
      "13/13 [==============================] - 0s 655us/step - loss: 0.1758\n",
      "Epoch 87/100\n",
      "13/13 [==============================] - 0s 3ms/step - loss: 0.1791\n",
      "Epoch 88/100\n",
      "13/13 [==============================] - 0s 555us/step - loss: 0.1658\n",
      "Epoch 89/100\n",
      "13/13 [==============================] - 0s 591us/step - loss: 0.1577\n",
      "Epoch 90/100\n",
      "13/13 [==============================] - 0s 583us/step - loss: 0.1551\n",
      "Epoch 91/100\n",
      "13/13 [==============================] - 0s 592us/step - loss: 0.1490\n",
      "Epoch 92/100\n",
      "13/13 [==============================] - 0s 617us/step - loss: 0.1434\n",
      "Epoch 93/100\n",
      "13/13 [==============================] - 0s 657us/step - loss: 0.1398\n",
      "Epoch 94/100\n",
      "13/13 [==============================] - 0s 561us/step - loss: 0.1346\n",
      "Epoch 95/100\n",
      "13/13 [==============================] - 0s 605us/step - loss: 0.1331\n",
      "Epoch 96/100\n",
      "13/13 [==============================] - 0s 558us/step - loss: 0.1361\n",
      "Epoch 97/100\n",
      "13/13 [==============================] - 0s 601us/step - loss: 0.1365\n",
      "Epoch 98/100\n",
      "13/13 [==============================] - 0s 558us/step - loss: 0.1349\n",
      "Epoch 99/100\n",
      "13/13 [==============================] - 0s 538us/step - loss: 0.1251\n",
      "Epoch 100/100\n",
      "13/13 [==============================] - 0s 546us/step - loss: 0.1238\n"
     ]
    }
   ],
   "source": [
    "model.fit(X_train, y_train, epochs=100);"
   ]
  },
  {
   "cell_type": "markdown",
   "metadata": {},
   "source": [
    "# Model Evaluation and Accuracy Calculation\n",
    "\n",
    "In this section, we assess the model's performance and calculate its accuracy.\n",
    "\n",
    "## Model Evaluation\n",
    "\n",
    "The code evaluates the model's predictions on the training data. It uses the following steps:\n",
    "\n",
    "- `tensor_prob`: Predicted probabilities for each instance in the training data.\n",
    "- `tensor_pred`: Predicted binary labels based on a probability threshold (0.5).\n",
    "- Comparing the predicted labels (`tensor_pred`) with the true labels (`y`) to assess the model's accuracy.\n",
    "\n",
    "## Accuracy Calculation\n",
    "\n",
    "The accuracy of the model is calculated as a percentage. It reflects the proportion of correct predictions out of the total number of instances in the training dataset.\n",
    "\n",
    "The calculated accuracy is displayed as a percentage value.\n"
   ]
  },
  {
   "cell_type": "code",
   "execution_count": 10,
   "metadata": {},
   "outputs": [
    {
     "name": "stdout",
     "output_type": "stream",
     "text": [
      "4/4 [==============================] - 0s 651us/step\n",
      "Accuracy: 96.90721649484536\n"
     ]
    }
   ],
   "source": [
    "tensor_prob = model.predict(X_test)\n",
    "tensor_pred = []\n",
    "\n",
    "for p in tensor_prob:\n",
    "    if (p[0] > 0.5):\n",
    "        tensor_pred.append(1)\n",
    "    else:\n",
    "        tensor_pred.append(0)\n",
    "\n",
    "\n",
    "compare = (y_test == tensor_pred)\n",
    "\n",
    "accuracy = np.mean(compare) * 100\n",
    "\n",
    "print(f'Accuracy: {accuracy}')"
   ]
  },
  {
   "cell_type": "markdown",
   "metadata": {},
   "source": [
    "# Model Evaluation with Confusion Matrix\n",
    "\n",
    "In this section, we assess the performance of the pose classification model using a confusion matrix.\n",
    "\n",
    "## Confusion Matrix\n",
    "\n",
    "The code computes a confusion matrix, which is a valuable tool for visualizing the model's performance in a binary classification task. The matrix provides insights into the number of true positive, true negative, false positive, and false negative predictions. This is achieved through the following steps:\n",
    "\n",
    "- `true_y`: True labels from the test data.\n",
    "- `test_pred_decision_tree`: Predicted labels from the model.\n",
    "- Using the `metrics.confusion_matrix` function to compute the confusion matrix.\n",
    "- Displaying the confusion matrix using `ConfusionMatrixDisplay` with labels \"Bad\" and \"Good.\"\n"
   ]
  },
  {
   "cell_type": "code",
   "execution_count": 11,
   "metadata": {},
   "outputs": [
    {
     "data": {
      "image/png": "[encoded data removed]",
      "text/plain": [
       "<Figure size 640x480 with 2 Axes>"
      ]
     },
     "metadata": {},
     "output_type": "display_data"
    }
   ],
   "source": [
    "true_y = np.array(y_test);\n",
    "\n",
    "confusion_matrix1 = confusion_matrix(true_y, tensor_pred)\n",
    "\n",
    "cm_display = ConfusionMatrixDisplay(confusion_matrix = confusion_matrix1, display_labels = [\"Bad\", \"Good\"])\n",
    "\n",
    "cm_display.plot()\n",
    "plt.show()"
   ]
  },
  {
   "cell_type": "markdown",
   "metadata": {},
   "source": [
    "## Confusion Matrix and Accuracy for Real Images\n",
    "\n",
    "In this section, we create a confusion matrix to evaluate the model's performance on real images.\n"
   ]
  },
  {
   "cell_type": "code",
   "execution_count": 12,
   "metadata": {},
   "outputs": [
    {
     "name": "stdout",
     "output_type": "stream",
     "text": [
      "2/2 [==============================] - 0s 3ms/step\n"
     ]
    },
    {
     "data": {
      "image/png": "[encoded data removed]",
      "text/plain": [
       "<Figure size 640x480 with 2 Axes>"
      ]
     },
     "metadata": {},
     "output_type": "display_data"
    },
    {
     "name": "stdout",
     "output_type": "stream",
     "text": [
      "Accuracy on real Images 0.9444444444444444\n"
     ]
    }
   ],
   "source": [
    "pred3 = model.predict(X_test_real)\n",
    "test_pred_real = []\n",
    "for p in pred3:\n",
    "    if (p[0] > 0.4):\n",
    "        test_pred_real.append(1)\n",
    "    else:\n",
    "        test_pred_real.append(0)\n",
    "\n",
    "true_y3 = np.array(y_test_real);\n",
    "\n",
    "confusion_matrix_real = confusion_matrix(true_y3, test_pred_real)\n",
    "\n",
    "cm_display = ConfusionMatrixDisplay(confusion_matrix = confusion_matrix_real, display_labels = [\"Bad\", \"Good\"])\n",
    "\n",
    "cm_display.plot()\n",
    "plt.show()\n",
    "\n",
    "print(f'Accuracy on real Images {accuracy_score(y_test_real, test_pred_real)}')"
   ]
  },
  {
   "cell_type": "markdown",
   "metadata": {},
   "source": [
    "# Saving the Trained Model"
   ]
  },
  {
   "cell_type": "code",
   "execution_count": 13,
   "metadata": {},
   "outputs": [
    {
     "name": "stderr",
     "output_type": "stream",
     "text": [
      "WARNING:absl:Found untraced functions such as _update_step_xla while saving (showing 1 of 1). These functions will not be directly callable after loading.\n"
     ]
    },
    {
     "name": "stdout",
     "output_type": "stream",
     "text": [
      "INFO:tensorflow:Assets written to: ../models/NN_tree.tensorflow/assets\n"
     ]
    },
    {
     "name": "stderr",
     "output_type": "stream",
     "text": [
      "INFO:tensorflow:Assets written to: ../models/NN_tree.tensorflow/assets\n"
     ]
    }
   ],
   "source": [
    "model.save('../models/NN_tree.tensorflow')"
   ]
  },
  {
   "cell_type": "markdown",
   "metadata": {},
   "source": [
    "# Convert and Save TensorFlow Lite Model\n",
    "\n",
    "In this section, we convert the trained pose classification model to TensorFlow Lite format for efficient deployment on various platforms. \n",
    "\n",
    "- The model is optimized for resource-constrained devices using `tf.lite.Optimize.DEFAULT`.\n",
    "- It is saved as \"NN_tree_testing.tflite\" for deployment in edge devices and mobile applications.\n",
    "\n",
    "This conversion enables versatile and efficient model deployment.\n"
   ]
  },
  {
   "cell_type": "code",
   "execution_count": 14,
   "metadata": {},
   "outputs": [
    {
     "name": "stderr",
     "output_type": "stream",
     "text": [
      "2023-11-04 14:41:57.430959: W tensorflow/compiler/mlir/lite/python/tf_tfl_flatbuffer_helpers.cc:362] Ignored output_format.\n",
      "2023-11-04 14:41:57.430974: W tensorflow/compiler/mlir/lite/python/tf_tfl_flatbuffer_helpers.cc:365] Ignored drop_control_dependency.\n",
      "2023-11-04 14:41:57.431824: I tensorflow/cc/saved_model/reader.cc:45] Reading SavedModel from: ../models/NN_tree.tensorflow\n",
      "2023-11-04 14:41:57.433568: I tensorflow/cc/saved_model/reader.cc:89] Reading meta graph with tags { serve }\n",
      "2023-11-04 14:41:57.433575: I tensorflow/cc/saved_model/reader.cc:130] Reading SavedModel debug info (if present) from: ../models/NN_tree.tensorflow\n",
      "2023-11-04 14:41:57.437357: I tensorflow/compiler/mlir/mlir_graph_optimization_pass.cc:357] MLIR V1 optimization pass is not enabled\n",
      "2023-11-04 14:41:57.438422: I tensorflow/cc/saved_model/loader.cc:229] Restoring SavedModel bundle.\n",
      "2023-11-04 14:41:57.469602: I tensorflow/cc/saved_model/loader.cc:213] Running initialization op on SavedModel bundle at path: ../models/NN_tree.tensorflow\n",
      "2023-11-04 14:41:57.478933: I tensorflow/cc/saved_model/loader.cc:305] SavedModel load for tags { serve }; Status: success: OK. Took 47349 microseconds.\n",
      "2023-11-04 14:41:57.517470: I tensorflow/compiler/mlir/tensorflow/utils/dump_mlir_util.cc:268] disabling MLIR crash reproducer, set env var `MLIR_CRASH_REPRODUCER_DIRECTORY` to enable.\n"
     ]
    }
   ],
   "source": [
    "converter = tf.lite.TFLiteConverter.from_saved_model('../models/NN_tree.tensorflow') # path to the SavedModel directory\n",
    "converter.optimizations = [tf.lite.Optimize.DEFAULT]\n",
    "converter.target_spec.supported_types = [tf.float16]\n",
    "tflite_model = converter.convert()\n",
    "\n",
    "# Save the model.\n",
    "with open('../models/NN_tree.tflite', 'wb') as f:\n",
    "  f.write(tflite_model)"
   ]
  },
  {
   "cell_type": "markdown",
   "metadata": {},
   "source": [
    "# TensorFlow Lite Model Evaluation\n",
    "\n",
    "In this section, we evaluate the TensorFlow Lite model and measure its accuracy on test data\n"
   ]
  },
  {
   "cell_type": "code",
   "execution_count": 15,
   "metadata": {},
   "outputs": [
    {
     "name": "stdout",
     "output_type": "stream",
     "text": [
      "Accuracy of TFLite model: 0.9278350515463918\n"
     ]
    }
   ],
   "source": [
    "def evaluate_model(interpreter, X, y_true):\n",
    "  \"\"\"Evaluates the given TFLite model and return its accuracy.\"\"\"\n",
    "  input_index = interpreter.get_input_details()[0][\"index\"]\n",
    "  output_index = interpreter.get_output_details()[0][\"index\"]\n",
    "\n",
    "  # Run predictions on all given poses.\n",
    "  predicted_label = []\n",
    "  for i in range(len(y_true)):\n",
    "    # Pre-processing: add batch dimension and convert to float32 to match with\n",
    "    # the model's input data format.\n",
    "    test_image = X[i: i + 1].astype('float32')\n",
    "    interpreter.set_tensor(input_index, test_image)\n",
    "\n",
    "    # Run inference.\n",
    "    interpreter.invoke()\n",
    "\n",
    "    # Post-processing: remove batch dimension and find the class with highest\n",
    "    # probability.\n",
    "    output = interpreter.tensor(output_index)\n",
    "    \n",
    "    if (output()[0] > 0.4):\n",
    "        predicted_label.append(1) #good pose\n",
    "    else:\n",
    "        predicted_label.append(0)\n",
    "    \n",
    "\n",
    "  # Compare prediction results with ground truth labels to calculate accuracy.\n",
    "  #y_pred = keras.utils.to_categorical(y_pred)\n",
    "  return accuracy_score(y_true, predicted_label)\n",
    "\n",
    "# Evaluate the accuracy of the converted TFLite model\n",
    "classifier_interpreter = tf.lite.Interpreter(model_path='../models/NN_tree.tflite')\n",
    "classifier_interpreter.allocate_tensors()\n",
    "print('Accuracy of TFLite model: %s' %\n",
    "      evaluate_model(classifier_interpreter, X_test, y_test))"
   ]
  }
 ],
 "metadata": {
  "kernelspec": {
   "display_name": "Python 3",
   "language": "python",
   "name": "python3"
  },
  "language_info": {
   "codemirror_mode": {
    "name": "ipython",
    "version": 3
   },
   "file_extension": ".py",
   "mimetype": "text/x-python",
   "name": "python",
   "nbconvert_exporter": "python",
   "pygments_lexer": "ipython3",
   "version": "3.10.7"
  }
 },
 "nbformat": 4,
 "nbformat_minor": 2
}
